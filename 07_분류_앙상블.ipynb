{
  "nbformat": 4,
  "nbformat_minor": 0,
  "metadata": {
    "colab": {
      "provenance": [],
      "collapsed_sections": []
    },
    "kernelspec": {
      "name": "python3",
      "display_name": "Python 3"
    },
    "language_info": {
      "name": "python"
    }
  },
  "cells": [
    {
      "cell_type": "markdown",
      "source": [
        "# 앙상블(Ensemble) 학습"
      ],
      "metadata": {
        "id": "4uLipvfd_bec"
      }
    },
    {
      "cell_type": "code",
      "execution_count": 1,
      "metadata": {
        "id": "f_mF9rel_WZo"
      },
      "outputs": [],
      "source": [
        "from sklearn.datasets import load_breast_cancer\n",
        "cancer = load_breast_cancer()"
      ]
    },
    {
      "cell_type": "code",
      "source": [
        "# 표준 정규 분포로 표준화\n",
        "from sklearn.preprocessing import StandardScaler\n",
        "cancer_std = StandardScaler().fit_transform(cancer.data)"
      ],
      "metadata": {
        "id": "UHcqg5jn_quu"
      },
      "execution_count": 2,
      "outputs": []
    },
    {
      "cell_type": "code",
      "source": [
        "# Train/Test dataset 분리\n",
        "from sklearn.model_selection import train_test_split\n",
        "X_train, X_test, y_train, y_test = train_test_split(\n",
        "    cancer_std, cancer.target, stratify=cancer.target, test_size=0.2, random_state=2022\n",
        ")"
      ],
      "metadata": {
        "id": "it-v6V1b_4pt"
      },
      "execution_count": 3,
      "outputs": []
    },
    {
      "cell_type": "markdown",
      "source": [
        "### 1. Voting\n",
        "#### 1.1 Hard  Voting\n",
        "- 로지스틱 회귀\n",
        "- SVM\n",
        "- K 최근접 이웃"
      ],
      "metadata": {
        "id": "UUKZnAkIAYKH"
      }
    },
    {
      "cell_type": "code",
      "source": [
        "from sklearn.linear_model import LogisticRegression\n",
        "from sklearn.svm import SVC\n",
        "from sklearn.neighbors import KNeighborsClassifier"
      ],
      "metadata": {
        "id": "dO6uQ1z1AV69"
      },
      "execution_count": 4,
      "outputs": []
    },
    {
      "cell_type": "code",
      "source": [
        "lrc = LogisticRegression(random_state=2022)\n",
        "svc = SVC(random_state=2022)\n",
        "knn = KNeighborsClassifier()"
      ],
      "metadata": {
        "id": "RaT953wJCZpU"
      },
      "execution_count": 5,
      "outputs": []
    },
    {
      "cell_type": "code",
      "source": [
        "# 하드 보팅을 위한 앙상블 분류기\n",
        "from sklearn.ensemble import VotingClassifier\n",
        "voc = VotingClassifier(\n",
        "    estimators=[('LRC',lrc), ('SVC',svc), ('KNN',knn)], \n",
        "    voting='hard'\n",
        ")"
      ],
      "metadata": {
        "id": "SENM8NCPCloD"
      },
      "execution_count": 6,
      "outputs": []
    },
    {
      "cell_type": "code",
      "source": [
        "voc.fit(X_train, y_train)\n",
        "voc.score(X_test, y_test)"
      ],
      "metadata": {
        "colab": {
          "base_uri": "https://localhost:8080/"
        },
        "id": "53PaGU7aDVTl",
        "outputId": "cd5cab53-c106-49a8-f9ad-63e580bccdb9"
      },
      "execution_count": 7,
      "outputs": [
        {
          "output_type": "execute_result",
          "data": {
            "text/plain": [
              "1.0"
            ]
          },
          "metadata": {},
          "execution_count": 7
        }
      ]
    },
    {
      "cell_type": "code",
      "source": [
        "# 개별 분류기의 성능\n",
        "lrc.fit(X_train, y_train)\n",
        "svc.fit(X_train, y_train)\n",
        "knn.fit(X_train, y_train)\n",
        "print(lrc.score(X_test, y_test))\n",
        "print(svc.score(X_test, y_test))\n",
        "print(knn.score(X_test, y_test))"
      ],
      "metadata": {
        "colab": {
          "base_uri": "https://localhost:8080/"
        },
        "id": "1j0OSZq3DjAr",
        "outputId": "b54c220d-00cc-4071-baed-ded047caf7e8"
      },
      "execution_count": 8,
      "outputs": [
        {
          "output_type": "stream",
          "name": "stdout",
          "text": [
            "0.9912280701754386\n",
            "0.9912280701754386\n",
            "0.9912280701754386\n"
          ]
        }
      ]
    },
    {
      "cell_type": "markdown",
      "source": [
        "#### 1.2 Soft Voting"
      ],
      "metadata": {
        "id": "Oh801lslEEnR"
      }
    },
    {
      "cell_type": "markdown",
      "source": [
        "- Logistic Regression"
      ],
      "metadata": {
        "id": "ZCu7IRe_ELTa"
      }
    },
    {
      "cell_type": "code",
      "source": [
        "# 객체의 속성과 메소드\n",
        "dir(lrc)"
      ],
      "metadata": {
        "colab": {
          "base_uri": "https://localhost:8080/"
        },
        "id": "ewMFc_-TD6El",
        "outputId": "25486fb7-6276-4042-ffb0-b8f8e5ef50d8"
      },
      "execution_count": 9,
      "outputs": [
        {
          "output_type": "execute_result",
          "data": {
            "text/plain": [
              "['C',\n",
              " '__class__',\n",
              " '__delattr__',\n",
              " '__dict__',\n",
              " '__dir__',\n",
              " '__doc__',\n",
              " '__eq__',\n",
              " '__format__',\n",
              " '__ge__',\n",
              " '__getattribute__',\n",
              " '__getstate__',\n",
              " '__gt__',\n",
              " '__hash__',\n",
              " '__init__',\n",
              " '__init_subclass__',\n",
              " '__le__',\n",
              " '__lt__',\n",
              " '__module__',\n",
              " '__ne__',\n",
              " '__new__',\n",
              " '__reduce__',\n",
              " '__reduce_ex__',\n",
              " '__repr__',\n",
              " '__setattr__',\n",
              " '__setstate__',\n",
              " '__sizeof__',\n",
              " '__str__',\n",
              " '__subclasshook__',\n",
              " '__weakref__',\n",
              " '_check_feature_names',\n",
              " '_check_n_features',\n",
              " '_estimator_type',\n",
              " '_get_param_names',\n",
              " '_get_tags',\n",
              " '_more_tags',\n",
              " '_predict_proba_lr',\n",
              " '_repr_html_',\n",
              " '_repr_html_inner',\n",
              " '_repr_mimebundle_',\n",
              " '_validate_data',\n",
              " 'class_weight',\n",
              " 'classes_',\n",
              " 'coef_',\n",
              " 'decision_function',\n",
              " 'densify',\n",
              " 'dual',\n",
              " 'fit',\n",
              " 'fit_intercept',\n",
              " 'get_params',\n",
              " 'intercept_',\n",
              " 'intercept_scaling',\n",
              " 'l1_ratio',\n",
              " 'max_iter',\n",
              " 'multi_class',\n",
              " 'n_features_in_',\n",
              " 'n_iter_',\n",
              " 'n_jobs',\n",
              " 'penalty',\n",
              " 'predict',\n",
              " 'predict_log_proba',\n",
              " 'predict_proba',\n",
              " 'random_state',\n",
              " 'score',\n",
              " 'set_params',\n",
              " 'solver',\n",
              " 'sparsify',\n",
              " 'tol',\n",
              " 'verbose',\n",
              " 'warm_start']"
            ]
          },
          "metadata": {},
          "execution_count": 9
        }
      ]
    },
    {
      "cell_type": "code",
      "source": [
        "lrc.predict(X_test[:5])"
      ],
      "metadata": {
        "colab": {
          "base_uri": "https://localhost:8080/"
        },
        "id": "pciD1lsQESGM",
        "outputId": "1c2e5ed7-1c13-42b4-98c4-9dca25277225"
      },
      "execution_count": 10,
      "outputs": [
        {
          "output_type": "execute_result",
          "data": {
            "text/plain": [
              "array([0, 1, 0, 1, 0])"
            ]
          },
          "metadata": {},
          "execution_count": 10
        }
      ]
    },
    {
      "cell_type": "code",
      "source": [
        "# [0이 될 확률, 1이 될 확률]\n",
        "lrc.predict_proba(X_test[:5])"
      ],
      "metadata": {
        "colab": {
          "base_uri": "https://localhost:8080/"
        },
        "id": "ug4rwZGOEhMb",
        "outputId": "ffd564e3-57f5-4c24-bff7-2aeda1f659b0"
      },
      "execution_count": 11,
      "outputs": [
        {
          "output_type": "execute_result",
          "data": {
            "text/plain": [
              "array([[9.99999999e-01, 1.45395340e-09],\n",
              "       [1.29048390e-02, 9.87095161e-01],\n",
              "       [9.99988662e-01, 1.13377133e-05],\n",
              "       [5.23798806e-03, 9.94762012e-01],\n",
              "       [9.99999953e-01, 4.74465654e-08]])"
            ]
          },
          "metadata": {},
          "execution_count": 11
        }
      ]
    },
    {
      "cell_type": "markdown",
      "source": [
        "- Support Vector Classifier"
      ],
      "metadata": {
        "id": "6PruQzt_E8Nn"
      }
    },
    {
      "cell_type": "code",
      "source": [
        "dir(svc)"
      ],
      "metadata": {
        "colab": {
          "base_uri": "https://localhost:8080/"
        },
        "id": "y9x0pDwfEnzD",
        "outputId": "e9d1ce30-2e42-40b7-e503-5a69b82564cc"
      },
      "execution_count": 12,
      "outputs": [
        {
          "output_type": "execute_result",
          "data": {
            "text/plain": [
              "['C',\n",
              " '__abstractmethods__',\n",
              " '__class__',\n",
              " '__delattr__',\n",
              " '__dict__',\n",
              " '__dir__',\n",
              " '__doc__',\n",
              " '__eq__',\n",
              " '__format__',\n",
              " '__ge__',\n",
              " '__getattribute__',\n",
              " '__getstate__',\n",
              " '__gt__',\n",
              " '__hash__',\n",
              " '__init__',\n",
              " '__init_subclass__',\n",
              " '__le__',\n",
              " '__lt__',\n",
              " '__module__',\n",
              " '__ne__',\n",
              " '__new__',\n",
              " '__reduce__',\n",
              " '__reduce_ex__',\n",
              " '__repr__',\n",
              " '__setattr__',\n",
              " '__setstate__',\n",
              " '__sizeof__',\n",
              " '__str__',\n",
              " '__subclasshook__',\n",
              " '__weakref__',\n",
              " '_abc_impl',\n",
              " '_check_feature_names',\n",
              " '_check_n_features',\n",
              " '_check_proba',\n",
              " '_compute_kernel',\n",
              " '_decision_function',\n",
              " '_dense_decision_function',\n",
              " '_dense_fit',\n",
              " '_dense_predict',\n",
              " '_dense_predict_proba',\n",
              " '_dual_coef_',\n",
              " '_estimator_type',\n",
              " '_gamma',\n",
              " '_get_coef',\n",
              " '_get_param_names',\n",
              " '_get_tags',\n",
              " '_impl',\n",
              " '_intercept_',\n",
              " '_more_tags',\n",
              " '_n_support',\n",
              " '_pairwise',\n",
              " '_probA',\n",
              " '_probB',\n",
              " '_repr_html_',\n",
              " '_repr_html_inner',\n",
              " '_repr_mimebundle_',\n",
              " '_sparse',\n",
              " '_sparse_decision_function',\n",
              " '_sparse_fit',\n",
              " '_sparse_kernels',\n",
              " '_sparse_predict',\n",
              " '_sparse_predict_proba',\n",
              " '_validate_data',\n",
              " '_validate_for_predict',\n",
              " '_validate_targets',\n",
              " '_warn_from_fit_status',\n",
              " 'break_ties',\n",
              " 'cache_size',\n",
              " 'class_weight',\n",
              " 'class_weight_',\n",
              " 'classes_',\n",
              " 'coef0',\n",
              " 'coef_',\n",
              " 'decision_function',\n",
              " 'decision_function_shape',\n",
              " 'degree',\n",
              " 'dual_coef_',\n",
              " 'epsilon',\n",
              " 'fit',\n",
              " 'fit_status_',\n",
              " 'gamma',\n",
              " 'get_params',\n",
              " 'intercept_',\n",
              " 'kernel',\n",
              " 'max_iter',\n",
              " 'n_features_in_',\n",
              " 'n_support_',\n",
              " 'nu',\n",
              " 'predict',\n",
              " 'predict_log_proba',\n",
              " 'predict_proba',\n",
              " 'probA_',\n",
              " 'probB_',\n",
              " 'probability',\n",
              " 'random_state',\n",
              " 'score',\n",
              " 'set_params',\n",
              " 'shape_fit_',\n",
              " 'shrinking',\n",
              " 'support_',\n",
              " 'support_vectors_',\n",
              " 'tol',\n",
              " 'verbose']"
            ]
          },
          "metadata": {},
          "execution_count": 12
        }
      ]
    },
    {
      "cell_type": "code",
      "source": [
        "svc.predict_proba(X_test[:5])"
      ],
      "metadata": {
        "colab": {
          "base_uri": "https://localhost:8080/",
          "height": 327
        },
        "id": "eNqLKgttFCDD",
        "outputId": "fe620bdb-d734-467a-f8f1-8ebf11881fde"
      },
      "execution_count": 13,
      "outputs": [
        {
          "output_type": "error",
          "ename": "AttributeError",
          "evalue": "ignored",
          "traceback": [
            "\u001b[0;31m---------------------------------------------------------------------------\u001b[0m",
            "\u001b[0;31mAttributeError\u001b[0m                            Traceback (most recent call last)",
            "\u001b[0;32m<ipython-input-13-fa7689064e39>\u001b[0m in \u001b[0;36m<module>\u001b[0;34m\u001b[0m\n\u001b[0;32m----> 1\u001b[0;31m \u001b[0msvc\u001b[0m\u001b[0;34m.\u001b[0m\u001b[0mpredict_proba\u001b[0m\u001b[0;34m(\u001b[0m\u001b[0mX_test\u001b[0m\u001b[0;34m[\u001b[0m\u001b[0;34m:\u001b[0m\u001b[0;36m5\u001b[0m\u001b[0;34m]\u001b[0m\u001b[0;34m)\u001b[0m\u001b[0;34m\u001b[0m\u001b[0;34m\u001b[0m\u001b[0m\n\u001b[0m",
            "\u001b[0;32m/usr/local/lib/python3.7/dist-packages/sklearn/utils/metaestimators.py\u001b[0m in \u001b[0;36m__get__\u001b[0;34m(self, obj, owner)\u001b[0m\n\u001b[1;32m    107\u001b[0m             \u001b[0;31m# delegate only on instances, not the classes.\u001b[0m\u001b[0;34m\u001b[0m\u001b[0;34m\u001b[0m\u001b[0;34m\u001b[0m\u001b[0m\n\u001b[1;32m    108\u001b[0m             \u001b[0;31m# this is to allow access to the docstrings.\u001b[0m\u001b[0;34m\u001b[0m\u001b[0;34m\u001b[0m\u001b[0;34m\u001b[0m\u001b[0m\n\u001b[0;32m--> 109\u001b[0;31m             \u001b[0;32mif\u001b[0m \u001b[0;32mnot\u001b[0m \u001b[0mself\u001b[0m\u001b[0;34m.\u001b[0m\u001b[0mcheck\u001b[0m\u001b[0;34m(\u001b[0m\u001b[0mobj\u001b[0m\u001b[0;34m)\u001b[0m\u001b[0;34m:\u001b[0m\u001b[0;34m\u001b[0m\u001b[0;34m\u001b[0m\u001b[0m\n\u001b[0m\u001b[1;32m    110\u001b[0m                 \u001b[0;32mraise\u001b[0m \u001b[0mattr_err\u001b[0m\u001b[0;34m\u001b[0m\u001b[0;34m\u001b[0m\u001b[0m\n\u001b[1;32m    111\u001b[0m \u001b[0;34m\u001b[0m\u001b[0m\n",
            "\u001b[0;32m/usr/local/lib/python3.7/dist-packages/sklearn/svm/_base.py\u001b[0m in \u001b[0;36m_check_proba\u001b[0;34m(self)\u001b[0m\n\u001b[1;32m    799\u001b[0m         \u001b[0;32mif\u001b[0m \u001b[0;32mnot\u001b[0m \u001b[0mself\u001b[0m\u001b[0;34m.\u001b[0m\u001b[0mprobability\u001b[0m\u001b[0;34m:\u001b[0m\u001b[0;34m\u001b[0m\u001b[0;34m\u001b[0m\u001b[0m\n\u001b[1;32m    800\u001b[0m             raise AttributeError(\n\u001b[0;32m--> 801\u001b[0;31m                 \u001b[0;34m\"predict_proba is not available when  probability=False\"\u001b[0m\u001b[0;34m\u001b[0m\u001b[0;34m\u001b[0m\u001b[0m\n\u001b[0m\u001b[1;32m    802\u001b[0m             )\n\u001b[1;32m    803\u001b[0m         \u001b[0;32mif\u001b[0m \u001b[0mself\u001b[0m\u001b[0;34m.\u001b[0m\u001b[0m_impl\u001b[0m \u001b[0;32mnot\u001b[0m \u001b[0;32min\u001b[0m \u001b[0;34m(\u001b[0m\u001b[0;34m\"c_svc\"\u001b[0m\u001b[0;34m,\u001b[0m \u001b[0;34m\"nu_svc\"\u001b[0m\u001b[0;34m)\u001b[0m\u001b[0;34m:\u001b[0m\u001b[0;34m\u001b[0m\u001b[0;34m\u001b[0m\u001b[0m\n",
            "\u001b[0;31mAttributeError\u001b[0m: predict_proba is not available when  probability=False"
          ]
        }
      ]
    },
    {
      "cell_type": "code",
      "source": [
        "# 하이퍼 파라메터로 probability=True로 하면 predict_proba()를 사용할 수 있음\n",
        "svc2 = SVC(probability=True, random_state=2022)\n",
        "svc2.fit(X_train, y_train)\n",
        "svc2.predict_proba(X_test[:5])"
      ],
      "metadata": {
        "colab": {
          "base_uri": "https://localhost:8080/"
        },
        "id": "Jkw6kkk0FLwU",
        "outputId": "e380b480-4327-4324-9f56-b8485e2d83cb"
      },
      "execution_count": 14,
      "outputs": [
        {
          "output_type": "execute_result",
          "data": {
            "text/plain": [
              "array([[9.99896554e-01, 1.03445598e-04],\n",
              "       [7.53631647e-06, 9.99992464e-01],\n",
              "       [9.99957780e-01, 4.22200830e-05],\n",
              "       [1.11084633e-05, 9.99988892e-01],\n",
              "       [9.99216287e-01, 7.83713010e-04]])"
            ]
          },
          "metadata": {},
          "execution_count": 14
        }
      ]
    },
    {
      "cell_type": "markdown",
      "source": [
        "- K Nearest Neighbors"
      ],
      "metadata": {
        "id": "q6x5d02jF08_"
      }
    },
    {
      "cell_type": "code",
      "source": [
        "knn.predict_proba(X_test[:5])"
      ],
      "metadata": {
        "colab": {
          "base_uri": "https://localhost:8080/"
        },
        "id": "hvVG1wvdFmgM",
        "outputId": "1cef2126-051b-45bc-a8d3-584eb241c138"
      },
      "execution_count": 15,
      "outputs": [
        {
          "output_type": "execute_result",
          "data": {
            "text/plain": [
              "array([[1., 0.],\n",
              "       [0., 1.],\n",
              "       [1., 0.],\n",
              "       [0., 1.],\n",
              "       [1., 0.]])"
            ]
          },
          "metadata": {},
          "execution_count": 15
        }
      ]
    },
    {
      "cell_type": "code",
      "source": [
        "knn.predict_proba(X_test[-5:])"
      ],
      "metadata": {
        "colab": {
          "base_uri": "https://localhost:8080/"
        },
        "id": "ZzdHVBAsF8ET",
        "outputId": "09725966-dfd6-49b1-9b84-eb0ba4fc4564"
      },
      "execution_count": 17,
      "outputs": [
        {
          "output_type": "execute_result",
          "data": {
            "text/plain": [
              "array([[0.8, 0.2],\n",
              "       [1. , 0. ],\n",
              "       [1. , 0. ],\n",
              "       [0. , 1. ],\n",
              "       [0. , 1. ]])"
            ]
          },
          "metadata": {},
          "execution_count": 17
        }
      ]
    },
    {
      "cell_type": "markdown",
      "source": [
        "- Soft Voting"
      ],
      "metadata": {
        "id": "kMDSvdTBGb-S"
      }
    },
    {
      "cell_type": "code",
      "source": [
        "voc2 = VotingClassifier(\n",
        "    estimators=[('LRC',lrc), ('SVC',svc2), ('KNN',knn)], \n",
        "    voting='soft'\n",
        ")"
      ],
      "metadata": {
        "id": "fm7-38Z1GGii"
      },
      "execution_count": 18,
      "outputs": []
    },
    {
      "cell_type": "code",
      "source": [
        "voc2.fit(X_train, y_train)\n",
        "voc2.score(X_test, y_test)"
      ],
      "metadata": {
        "colab": {
          "base_uri": "https://localhost:8080/"
        },
        "id": "5uSKXgKfGs3r",
        "outputId": "20c5f052-11e6-47f6-de5c-ea15b9a170fc"
      },
      "execution_count": 19,
      "outputs": [
        {
          "output_type": "execute_result",
          "data": {
            "text/plain": [
              "1.0"
            ]
          },
          "metadata": {},
          "execution_count": 19
        }
      ]
    },
    {
      "cell_type": "code",
      "source": [
        "voc2.predict(X_test[:5])"
      ],
      "metadata": {
        "colab": {
          "base_uri": "https://localhost:8080/"
        },
        "id": "qV7CV-4qG057",
        "outputId": "851e15f3-a5c4-45cf-a3e9-a5fd7c07de16"
      },
      "execution_count": 20,
      "outputs": [
        {
          "output_type": "execute_result",
          "data": {
            "text/plain": [
              "array([0, 1, 0, 1, 0])"
            ]
          },
          "metadata": {},
          "execution_count": 20
        }
      ]
    },
    {
      "cell_type": "code",
      "source": [
        "voc2.predict_proba(X_test[:5])"
      ],
      "metadata": {
        "colab": {
          "base_uri": "https://localhost:8080/"
        },
        "id": "74ZzUCSYG-JD",
        "outputId": "3445179e-47ee-4bdc-e797-414284736996"
      },
      "execution_count": 21,
      "outputs": [
        {
          "output_type": "execute_result",
          "data": {
            "text/plain": [
              "array([[9.99965518e-01, 3.44823508e-05],\n",
              "       [4.30412510e-03, 9.95695875e-01],\n",
              "       [9.99982147e-01, 1.78525988e-05],\n",
              "       [1.74969884e-03, 9.98250301e-01],\n",
              "       [9.99738747e-01, 2.61253486e-04]])"
            ]
          },
          "metadata": {},
          "execution_count": 21
        }
      ]
    },
    {
      "cell_type": "markdown",
      "source": [
        "- GridSearchCV"
      ],
      "metadata": {
        "id": "3_-3WJtWHIsp"
      }
    },
    {
      "cell_type": "code",
      "source": [
        "lrc.C, svc2.C"
      ],
      "metadata": {
        "colab": {
          "base_uri": "https://localhost:8080/"
        },
        "id": "ZXKzzBPuHBZ7",
        "outputId": "9e0cfc96-29f9-4352-a133-c792fcda2cdb"
      },
      "execution_count": 22,
      "outputs": [
        {
          "output_type": "execute_result",
          "data": {
            "text/plain": [
              "(1.0, 1.0)"
            ]
          },
          "metadata": {},
          "execution_count": 22
        }
      ]
    },
    {
      "cell_type": "code",
      "source": [
        "params = {\n",
        "    'LRC__C': [0.1, 1, 10],\n",
        "    'SVC__C': [0.1, 1, 10]\n",
        "}"
      ],
      "metadata": {
        "id": "-CZ74jrwHO8i"
      },
      "execution_count": 23,
      "outputs": []
    },
    {
      "cell_type": "code",
      "source": [
        "from sklearn.model_selection import GridSearchCV\n",
        "grid_voc = GridSearchCV(voc2, params, scoring='accuracy', cv=5)\n",
        "grid_voc.fit(X_train, y_train)\n",
        "grid_voc.best_params_"
      ],
      "metadata": {
        "colab": {
          "base_uri": "https://localhost:8080/"
        },
        "id": "cSpHnUDXHiyL",
        "outputId": "c388ef5c-db8c-4999-ebca-90f4d69061c4"
      },
      "execution_count": 24,
      "outputs": [
        {
          "output_type": "execute_result",
          "data": {
            "text/plain": [
              "{'LRC__C': 10, 'SVC__C': 1}"
            ]
          },
          "metadata": {},
          "execution_count": 24
        }
      ]
    },
    {
      "cell_type": "code",
      "source": [
        "# 위의 두 과정을 여러번 반복하여 베스트 파라메터를 구한 후\n",
        "grid_voc.best_estimator_.score(X_test, y_test)"
      ],
      "metadata": {
        "colab": {
          "base_uri": "https://localhost:8080/"
        },
        "id": "hTWLFIsbH_vr",
        "outputId": "a5b0d0b0-1c7a-4d31-d32c-02484e40c70c"
      },
      "execution_count": 25,
      "outputs": [
        {
          "output_type": "execute_result",
          "data": {
            "text/plain": [
              "1.0"
            ]
          },
          "metadata": {},
          "execution_count": 25
        }
      ]
    },
    {
      "cell_type": "markdown",
      "source": [
        "### 2. Bagging 방식 - Random Forest"
      ],
      "metadata": {
        "id": "2YZp2a4IJ7CT"
      }
    },
    {
      "cell_type": "code",
      "source": [
        "# 하이퍼 파라메터\n",
        "from sklearn.ensemble import RandomForestClassifier\n",
        "rfc = RandomForestClassifier(random_state=2022)\n",
        "rfc.get_params()"
      ],
      "metadata": {
        "colab": {
          "base_uri": "https://localhost:8080/"
        },
        "id": "tpFC8Y1vIXKK",
        "outputId": "6f305e40-528b-4c76-dc7a-a1e5293d8e0e"
      },
      "execution_count": 26,
      "outputs": [
        {
          "output_type": "execute_result",
          "data": {
            "text/plain": [
              "{'bootstrap': True,\n",
              " 'ccp_alpha': 0.0,\n",
              " 'class_weight': None,\n",
              " 'criterion': 'gini',\n",
              " 'max_depth': None,\n",
              " 'max_features': 'auto',\n",
              " 'max_leaf_nodes': None,\n",
              " 'max_samples': None,\n",
              " 'min_impurity_decrease': 0.0,\n",
              " 'min_samples_leaf': 1,\n",
              " 'min_samples_split': 2,\n",
              " 'min_weight_fraction_leaf': 0.0,\n",
              " 'n_estimators': 100,\n",
              " 'n_jobs': None,\n",
              " 'oob_score': False,\n",
              " 'random_state': 2022,\n",
              " 'verbose': 0,\n",
              " 'warm_start': False}"
            ]
          },
          "metadata": {},
          "execution_count": 26
        }
      ]
    },
    {
      "cell_type": "code",
      "source": [
        "rfc.fit(X_train, y_train)\n",
        "rfc.score(X_test, y_test)"
      ],
      "metadata": {
        "colab": {
          "base_uri": "https://localhost:8080/"
        },
        "id": "9_BUMrLEKQqj",
        "outputId": "11423e99-9d49-44f8-dab5-7b10dc1ebc5e"
      },
      "execution_count": 27,
      "outputs": [
        {
          "output_type": "execute_result",
          "data": {
            "text/plain": [
              "1.0"
            ]
          },
          "metadata": {},
          "execution_count": 27
        }
      ]
    },
    {
      "cell_type": "code",
      "source": [
        "rfc.predict_proba(X_test[:5])"
      ],
      "metadata": {
        "colab": {
          "base_uri": "https://localhost:8080/"
        },
        "id": "b2oD2bI3Knpq",
        "outputId": "a9908530-3e06-4304-a306-baca6f4b2231"
      },
      "execution_count": 28,
      "outputs": [
        {
          "output_type": "execute_result",
          "data": {
            "text/plain": [
              "array([[1.  , 0.  ],\n",
              "       [0.  , 1.  ],\n",
              "       [1.  , 0.  ],\n",
              "       [0.  , 1.  ],\n",
              "       [0.99, 0.01]])"
            ]
          },
          "metadata": {},
          "execution_count": 28
        }
      ]
    },
    {
      "cell_type": "code",
      "source": [],
      "metadata": {
        "id": "JFDj5z4KKs-q"
      },
      "execution_count": null,
      "outputs": []
    }
  ]
}