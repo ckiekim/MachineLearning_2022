{
  "nbformat": 4,
  "nbformat_minor": 0,
  "metadata": {
    "colab": {
      "provenance": [],
      "collapsed_sections": []
    },
    "kernelspec": {
      "name": "python3",
      "display_name": "Python 3"
    },
    "language_info": {
      "name": "python"
    }
  },
  "cells": [
    {
      "cell_type": "markdown",
      "source": [
        "# 다양한 회귀 모델 - 보스톤 주택 가격\n",
        "- 다중 선형회귀\n",
        "- 규제 선형회귀\n",
        "- 선형회귀 이외의 회귀"
      ],
      "metadata": {
        "id": "ba9czrvxZXiT"
      }
    },
    {
      "cell_type": "code",
      "source": [
        "import warnings\n",
        "warnings.filterwarnings('ignore')"
      ],
      "metadata": {
        "id": "wVCINaCJZ9Fi"
      },
      "execution_count": 2,
      "outputs": []
    },
    {
      "cell_type": "code",
      "execution_count": 3,
      "metadata": {
        "id": "g11dQJb8X8YP"
      },
      "outputs": [],
      "source": [
        "from sklearn.datasets import load_boston\n",
        "boston = load_boston()"
      ]
    },
    {
      "cell_type": "code",
      "source": [
        "from sklearn.model_selection import train_test_split\n",
        "X_train, X_test, y_train, y_test = train_test_split(\n",
        "    boston.data, boston.target, test_size=0.2, random_state=2022\n",
        ")"
      ],
      "metadata": {
        "id": "eHsu6zlAZ4DL"
      },
      "execution_count": 5,
      "outputs": []
    },
    {
      "cell_type": "markdown",
      "source": [
        "### 1. 다중 선형회귀"
      ],
      "metadata": {
        "id": "-F2PiHJjal25"
      }
    },
    {
      "cell_type": "code",
      "source": [
        "from sklearn.linear_model import LinearRegression\n",
        "lr = LinearRegression()\n",
        "lr.fit(X_train, y_train)"
      ],
      "metadata": {
        "colab": {
          "base_uri": "https://localhost:8080/"
        },
        "id": "UtiusIqVaZBJ",
        "outputId": "b9dd1ce8-a00a-4d4b-df06-a8786c025f98"
      },
      "execution_count": 6,
      "outputs": [
        {
          "output_type": "execute_result",
          "data": {
            "text/plain": [
              "LinearRegression()"
            ]
          },
          "metadata": {},
          "execution_count": 6
        }
      ]
    },
    {
      "cell_type": "code",
      "source": [
        "from sklearn.metrics import r2_score\n",
        "pred_lr = lr.predict(X_test)\n",
        "r2_score(y_test, pred_lr)"
      ],
      "metadata": {
        "colab": {
          "base_uri": "https://localhost:8080/"
        },
        "id": "H2-BG1PXa2v2",
        "outputId": "d142148d-b0b8-4787-d70d-1286da68b6b3"
      },
      "execution_count": 7,
      "outputs": [
        {
          "output_type": "execute_result",
          "data": {
            "text/plain": [
              "0.6225687597000796"
            ]
          },
          "metadata": {},
          "execution_count": 7
        }
      ]
    },
    {
      "cell_type": "markdown",
      "source": [
        "### 2. 규제 선형회귀"
      ],
      "metadata": {
        "id": "bYjMtpsUbTpe"
      }
    },
    {
      "cell_type": "markdown",
      "source": [
        "- Ridge"
      ],
      "metadata": {
        "id": "V01P9as4bZvf"
      }
    },
    {
      "cell_type": "code",
      "source": [
        "from sklearn.linear_model import Ridge\n",
        "ridge = Ridge()\n",
        "ridge.get_params()"
      ],
      "metadata": {
        "colab": {
          "base_uri": "https://localhost:8080/"
        },
        "id": "qEeyYWfsbOLa",
        "outputId": "d7c71f91-0341-4f5a-9ef3-a3b52082255e"
      },
      "execution_count": 8,
      "outputs": [
        {
          "output_type": "execute_result",
          "data": {
            "text/plain": [
              "{'alpha': 1.0,\n",
              " 'copy_X': True,\n",
              " 'fit_intercept': True,\n",
              " 'max_iter': None,\n",
              " 'normalize': 'deprecated',\n",
              " 'positive': False,\n",
              " 'random_state': None,\n",
              " 'solver': 'auto',\n",
              " 'tol': 0.001}"
            ]
          },
          "metadata": {},
          "execution_count": 8
        }
      ]
    },
    {
      "cell_type": "code",
      "source": [
        "ridge.fit(X_train, y_train)\n",
        "ridge.score(X_test, y_test)"
      ],
      "metadata": {
        "colab": {
          "base_uri": "https://localhost:8080/"
        },
        "id": "kzuxzcnTbpIZ",
        "outputId": "05bef7ec-ccd3-49de-8054-a51c56d0eeca"
      },
      "execution_count": 9,
      "outputs": [
        {
          "output_type": "execute_result",
          "data": {
            "text/plain": [
              "0.6120292876368371"
            ]
          },
          "metadata": {},
          "execution_count": 9
        }
      ]
    },
    {
      "cell_type": "markdown",
      "source": [
        "- Lasso"
      ],
      "metadata": {
        "id": "bKKJOKL_b_0m"
      }
    },
    {
      "cell_type": "code",
      "source": [
        "from sklearn.linear_model import Lasso\n",
        "lasso = Lasso()\n",
        "lasso.get_params()"
      ],
      "metadata": {
        "colab": {
          "base_uri": "https://localhost:8080/"
        },
        "id": "nG84aP-eb5oK",
        "outputId": "37679339-1720-49a7-d5d5-eae00f7def47"
      },
      "execution_count": 10,
      "outputs": [
        {
          "output_type": "execute_result",
          "data": {
            "text/plain": [
              "{'alpha': 1.0,\n",
              " 'copy_X': True,\n",
              " 'fit_intercept': True,\n",
              " 'max_iter': 1000,\n",
              " 'normalize': 'deprecated',\n",
              " 'positive': False,\n",
              " 'precompute': False,\n",
              " 'random_state': None,\n",
              " 'selection': 'cyclic',\n",
              " 'tol': 0.0001,\n",
              " 'warm_start': False}"
            ]
          },
          "metadata": {},
          "execution_count": 10
        }
      ]
    },
    {
      "cell_type": "code",
      "source": [
        "lasso.fit(X_train, y_train)\n",
        "lasso.score(X_test, y_test)"
      ],
      "metadata": {
        "colab": {
          "base_uri": "https://localhost:8080/"
        },
        "id": "CzTiTypHcJdA",
        "outputId": "c56649d0-5418-41a1-975e-38ee485d0688"
      },
      "execution_count": 11,
      "outputs": [
        {
          "output_type": "execute_result",
          "data": {
            "text/plain": [
              "0.6471885919727083"
            ]
          },
          "metadata": {},
          "execution_count": 11
        }
      ]
    },
    {
      "cell_type": "markdown",
      "source": [
        "- 데이터를 스케일링을 한 후에 계산을 해 주어야 함"
      ],
      "metadata": {
        "id": "CpjVSSFecgEC"
      }
    },
    {
      "cell_type": "code",
      "source": [
        "from sklearn.preprocessing import MinMaxScaler\n",
        "boston_scaled = MinMaxScaler().fit_transform(boston.data)"
      ],
      "metadata": {
        "id": "K3XFIMDjcQfB"
      },
      "execution_count": 12,
      "outputs": []
    },
    {
      "cell_type": "code",
      "source": [
        "X_train2, X_test2, y_train2, y_test2 = train_test_split(\n",
        "    boston_scaled, boston.target, test_size=0.2, random_state=2022\n",
        ")"
      ],
      "metadata": {
        "id": "wap_pAJSdDgS"
      },
      "execution_count": 13,
      "outputs": []
    },
    {
      "cell_type": "code",
      "source": [
        "# Ridge (L2 규제)\n",
        "for alpha in [0.1, 1, 10, 100]:\n",
        "    ridge = Ridge(alpha=alpha)\n",
        "    ridge.fit(X_train2, y_train2)\n",
        "    score = ridge.score(X_test2, y_test2)\n",
        "    print(f'{alpha}: {score:.4f}')"
      ],
      "metadata": {
        "colab": {
          "base_uri": "https://localhost:8080/"
        },
        "id": "mANNF56ndXtx",
        "outputId": "b374ca66-acda-4595-a8b0-17ad37e9ef04"
      },
      "execution_count": 14,
      "outputs": [
        {
          "output_type": "stream",
          "name": "stdout",
          "text": [
            "0.1: 0.6258\n",
            "1: 0.6480\n",
            "10: 0.6626\n",
            "100: 0.3889\n"
          ]
        }
      ]
    },
    {
      "cell_type": "code",
      "source": [
        "for alpha in [5, 10, 20, 50]:\n",
        "    ridge = Ridge(alpha=alpha)\n",
        "    ridge.fit(X_train2, y_train2)\n",
        "    score = ridge.score(X_test2, y_test2)\n",
        "    print(f'{alpha}: {score:.4f}')"
      ],
      "metadata": {
        "colab": {
          "base_uri": "https://localhost:8080/"
        },
        "id": "MqvjcFZNd5QB",
        "outputId": "f78dc5b4-04ce-48bd-e567-db31f1dee8f2"
      },
      "execution_count": 15,
      "outputs": [
        {
          "output_type": "stream",
          "name": "stdout",
          "text": [
            "5: 0.6764\n",
            "10: 0.6626\n",
            "20: 0.6124\n",
            "50: 0.4973\n"
          ]
        }
      ]
    },
    {
      "cell_type": "code",
      "source": [
        "ridge = Ridge(alpha=5)\n",
        "ridge.fit(X_train2, y_train2)\n",
        "pred_ridge = ridge.predict(X_test2)"
      ],
      "metadata": {
        "id": "xeaWP-JreIaa"
      },
      "execution_count": 16,
      "outputs": []
    },
    {
      "cell_type": "code",
      "source": [
        "# Lasso (L1 규제)\n",
        "for alpha in [0.1, 1, 10, 100]:\n",
        "    lasso = Lasso(alpha=alpha)\n",
        "    lasso.fit(X_train2, y_train2)\n",
        "    score = lasso.score(X_test2, y_test2)\n",
        "    print(f'{alpha}: {score:.4f}')"
      ],
      "metadata": {
        "colab": {
          "base_uri": "https://localhost:8080/"
        },
        "id": "Xmk9zOXVeaz_",
        "outputId": "bb70a82b-b337-4e2b-aac7-08225bf1eb07"
      },
      "execution_count": 17,
      "outputs": [
        {
          "output_type": "stream",
          "name": "stdout",
          "text": [
            "0.1: 0.6124\n",
            "1: 0.2158\n",
            "10: -0.0937\n",
            "100: -0.0937\n"
          ]
        }
      ]
    },
    {
      "cell_type": "code",
      "source": [
        "for alpha in [0.01, 0.05, 0.1, 0.3]:\n",
        "    lasso = Lasso(alpha=alpha)\n",
        "    lasso.fit(X_train2, y_train2)\n",
        "    score = lasso.score(X_test2, y_test2)\n",
        "    print(f'{alpha}: {score:.4f}')"
      ],
      "metadata": {
        "colab": {
          "base_uri": "https://localhost:8080/"
        },
        "id": "HTuBlU9sevgr",
        "outputId": "0d51c3ae-18fd-4670-c721-d87000d6ebba"
      },
      "execution_count": 18,
      "outputs": [
        {
          "output_type": "stream",
          "name": "stdout",
          "text": [
            "0.01: 0.6272\n",
            "0.05: 0.6193\n",
            "0.1: 0.6124\n",
            "0.3: 0.6250\n"
          ]
        }
      ]
    },
    {
      "cell_type": "code",
      "source": [
        "lasso = Lasso(alpha=0.01)\n",
        "lasso.fit(X_train2, y_train2)\n",
        "pred_lasso = lasso.predict(X_test2)"
      ],
      "metadata": {
        "id": "GXlRKr2We6Lo"
      },
      "execution_count": 19,
      "outputs": []
    },
    {
      "cell_type": "code",
      "source": [
        "import pandas as pd\n",
        "\n",
        "df = pd.DataFrame({\n",
        "    'y_test': y_test, 'LR': pred_lr, \n",
        "    'y_test2': y_test2, 'Ridge': pred_ridge, 'Lasso': pred_lasso\n",
        "})\n",
        "df.head(10)"
      ],
      "metadata": {
        "colab": {
          "base_uri": "https://localhost:8080/",
          "height": 363
        },
        "id": "HWGMYFdvfIcI",
        "outputId": "2af27c7f-706d-4291-f7f5-2fff8efbb061"
      },
      "execution_count": 20,
      "outputs": [
        {
          "output_type": "execute_result",
          "data": {
            "text/plain": [
              "   y_test         LR  y_test2      Ridge      Lasso\n",
              "0    20.1  21.052395     20.1  20.997831  21.258673\n",
              "1    11.9   6.309071     11.9   9.558010   6.328281\n",
              "2    20.6  21.526247     20.6  20.315095  21.110774\n",
              "3    33.2  36.158114     33.2  34.056721  35.792194\n",
              "4    20.8  18.031103     20.8  17.579987  17.837889\n",
              "5    13.5  13.179806     13.5  15.213495  13.565227\n",
              "6    24.7  24.951738     24.7  25.467278  24.859535\n",
              "7    13.9  12.625334     13.9  15.473890  13.052384\n",
              "8    10.4   6.181062     10.4   8.887716   6.440885\n",
              "9    19.7  13.386348     19.7  15.806759  13.594170"
            ],
            "text/html": [
              "\n",
              "  <div id=\"df-c7d7d399-1c1c-4be7-8bee-20e148e52f7e\">\n",
              "    <div class=\"colab-df-container\">\n",
              "      <div>\n",
              "<style scoped>\n",
              "    .dataframe tbody tr th:only-of-type {\n",
              "        vertical-align: middle;\n",
              "    }\n",
              "\n",
              "    .dataframe tbody tr th {\n",
              "        vertical-align: top;\n",
              "    }\n",
              "\n",
              "    .dataframe thead th {\n",
              "        text-align: right;\n",
              "    }\n",
              "</style>\n",
              "<table border=\"1\" class=\"dataframe\">\n",
              "  <thead>\n",
              "    <tr style=\"text-align: right;\">\n",
              "      <th></th>\n",
              "      <th>y_test</th>\n",
              "      <th>LR</th>\n",
              "      <th>y_test2</th>\n",
              "      <th>Ridge</th>\n",
              "      <th>Lasso</th>\n",
              "    </tr>\n",
              "  </thead>\n",
              "  <tbody>\n",
              "    <tr>\n",
              "      <th>0</th>\n",
              "      <td>20.1</td>\n",
              "      <td>21.052395</td>\n",
              "      <td>20.1</td>\n",
              "      <td>20.997831</td>\n",
              "      <td>21.258673</td>\n",
              "    </tr>\n",
              "    <tr>\n",
              "      <th>1</th>\n",
              "      <td>11.9</td>\n",
              "      <td>6.309071</td>\n",
              "      <td>11.9</td>\n",
              "      <td>9.558010</td>\n",
              "      <td>6.328281</td>\n",
              "    </tr>\n",
              "    <tr>\n",
              "      <th>2</th>\n",
              "      <td>20.6</td>\n",
              "      <td>21.526247</td>\n",
              "      <td>20.6</td>\n",
              "      <td>20.315095</td>\n",
              "      <td>21.110774</td>\n",
              "    </tr>\n",
              "    <tr>\n",
              "      <th>3</th>\n",
              "      <td>33.2</td>\n",
              "      <td>36.158114</td>\n",
              "      <td>33.2</td>\n",
              "      <td>34.056721</td>\n",
              "      <td>35.792194</td>\n",
              "    </tr>\n",
              "    <tr>\n",
              "      <th>4</th>\n",
              "      <td>20.8</td>\n",
              "      <td>18.031103</td>\n",
              "      <td>20.8</td>\n",
              "      <td>17.579987</td>\n",
              "      <td>17.837889</td>\n",
              "    </tr>\n",
              "    <tr>\n",
              "      <th>5</th>\n",
              "      <td>13.5</td>\n",
              "      <td>13.179806</td>\n",
              "      <td>13.5</td>\n",
              "      <td>15.213495</td>\n",
              "      <td>13.565227</td>\n",
              "    </tr>\n",
              "    <tr>\n",
              "      <th>6</th>\n",
              "      <td>24.7</td>\n",
              "      <td>24.951738</td>\n",
              "      <td>24.7</td>\n",
              "      <td>25.467278</td>\n",
              "      <td>24.859535</td>\n",
              "    </tr>\n",
              "    <tr>\n",
              "      <th>7</th>\n",
              "      <td>13.9</td>\n",
              "      <td>12.625334</td>\n",
              "      <td>13.9</td>\n",
              "      <td>15.473890</td>\n",
              "      <td>13.052384</td>\n",
              "    </tr>\n",
              "    <tr>\n",
              "      <th>8</th>\n",
              "      <td>10.4</td>\n",
              "      <td>6.181062</td>\n",
              "      <td>10.4</td>\n",
              "      <td>8.887716</td>\n",
              "      <td>6.440885</td>\n",
              "    </tr>\n",
              "    <tr>\n",
              "      <th>9</th>\n",
              "      <td>19.7</td>\n",
              "      <td>13.386348</td>\n",
              "      <td>19.7</td>\n",
              "      <td>15.806759</td>\n",
              "      <td>13.594170</td>\n",
              "    </tr>\n",
              "  </tbody>\n",
              "</table>\n",
              "</div>\n",
              "      <button class=\"colab-df-convert\" onclick=\"convertToInteractive('df-c7d7d399-1c1c-4be7-8bee-20e148e52f7e')\"\n",
              "              title=\"Convert this dataframe to an interactive table.\"\n",
              "              style=\"display:none;\">\n",
              "        \n",
              "  <svg xmlns=\"http://www.w3.org/2000/svg\" height=\"24px\"viewBox=\"0 0 24 24\"\n",
              "       width=\"24px\">\n",
              "    <path d=\"M0 0h24v24H0V0z\" fill=\"none\"/>\n",
              "    <path d=\"M18.56 5.44l.94 2.06.94-2.06 2.06-.94-2.06-.94-.94-2.06-.94 2.06-2.06.94zm-11 1L8.5 8.5l.94-2.06 2.06-.94-2.06-.94L8.5 2.5l-.94 2.06-2.06.94zm10 10l.94 2.06.94-2.06 2.06-.94-2.06-.94-.94-2.06-.94 2.06-2.06.94z\"/><path d=\"M17.41 7.96l-1.37-1.37c-.4-.4-.92-.59-1.43-.59-.52 0-1.04.2-1.43.59L10.3 9.45l-7.72 7.72c-.78.78-.78 2.05 0 2.83L4 21.41c.39.39.9.59 1.41.59.51 0 1.02-.2 1.41-.59l7.78-7.78 2.81-2.81c.8-.78.8-2.07 0-2.86zM5.41 20L4 18.59l7.72-7.72 1.47 1.35L5.41 20z\"/>\n",
              "  </svg>\n",
              "      </button>\n",
              "      \n",
              "  <style>\n",
              "    .colab-df-container {\n",
              "      display:flex;\n",
              "      flex-wrap:wrap;\n",
              "      gap: 12px;\n",
              "    }\n",
              "\n",
              "    .colab-df-convert {\n",
              "      background-color: #E8F0FE;\n",
              "      border: none;\n",
              "      border-radius: 50%;\n",
              "      cursor: pointer;\n",
              "      display: none;\n",
              "      fill: #1967D2;\n",
              "      height: 32px;\n",
              "      padding: 0 0 0 0;\n",
              "      width: 32px;\n",
              "    }\n",
              "\n",
              "    .colab-df-convert:hover {\n",
              "      background-color: #E2EBFA;\n",
              "      box-shadow: 0px 1px 2px rgba(60, 64, 67, 0.3), 0px 1px 3px 1px rgba(60, 64, 67, 0.15);\n",
              "      fill: #174EA6;\n",
              "    }\n",
              "\n",
              "    [theme=dark] .colab-df-convert {\n",
              "      background-color: #3B4455;\n",
              "      fill: #D2E3FC;\n",
              "    }\n",
              "\n",
              "    [theme=dark] .colab-df-convert:hover {\n",
              "      background-color: #434B5C;\n",
              "      box-shadow: 0px 1px 3px 1px rgba(0, 0, 0, 0.15);\n",
              "      filter: drop-shadow(0px 1px 2px rgba(0, 0, 0, 0.3));\n",
              "      fill: #FFFFFF;\n",
              "    }\n",
              "  </style>\n",
              "\n",
              "      <script>\n",
              "        const buttonEl =\n",
              "          document.querySelector('#df-c7d7d399-1c1c-4be7-8bee-20e148e52f7e button.colab-df-convert');\n",
              "        buttonEl.style.display =\n",
              "          google.colab.kernel.accessAllowed ? 'block' : 'none';\n",
              "\n",
              "        async function convertToInteractive(key) {\n",
              "          const element = document.querySelector('#df-c7d7d399-1c1c-4be7-8bee-20e148e52f7e');\n",
              "          const dataTable =\n",
              "            await google.colab.kernel.invokeFunction('convertToInteractive',\n",
              "                                                     [key], {});\n",
              "          if (!dataTable) return;\n",
              "\n",
              "          const docLinkHtml = 'Like what you see? Visit the ' +\n",
              "            '<a target=\"_blank\" href=https://colab.research.google.com/notebooks/data_table.ipynb>data table notebook</a>'\n",
              "            + ' to learn more about interactive tables.';\n",
              "          element.innerHTML = '';\n",
              "          dataTable['output_type'] = 'display_data';\n",
              "          await google.colab.output.renderOutput(dataTable, element);\n",
              "          const docLink = document.createElement('div');\n",
              "          docLink.innerHTML = docLinkHtml;\n",
              "          element.appendChild(docLink);\n",
              "        }\n",
              "      </script>\n",
              "    </div>\n",
              "  </div>\n",
              "  "
            ]
          },
          "metadata": {},
          "execution_count": 20
        }
      ]
    },
    {
      "cell_type": "markdown",
      "source": [
        "### 3. 회귀는 선형회귀만 있나?"
      ],
      "metadata": {
        "id": "L9WjsTjDf-_C"
      }
    },
    {
      "cell_type": "code",
      "source": [
        "# Decision Tree Regressor\n",
        "from sklearn.tree import DecisionTreeRegressor\n",
        "dtr = DecisionTreeRegressor(random_state=2022)\n",
        "dtr.fit(X_train, y_train)\n",
        "pred_dt = dtr.predict(X_test)\n",
        "r2_score(y_test, pred_dt)"
      ],
      "metadata": {
        "colab": {
          "base_uri": "https://localhost:8080/"
        },
        "id": "aj6ns64CfnrQ",
        "outputId": "2023d700-4cfe-47ec-faba-c8abd9298545"
      },
      "execution_count": 21,
      "outputs": [
        {
          "output_type": "execute_result",
          "data": {
            "text/plain": [
              "0.7353132347724971"
            ]
          },
          "metadata": {},
          "execution_count": 21
        }
      ]
    },
    {
      "cell_type": "code",
      "source": [
        "# Random Forest\n",
        "from sklearn.ensemble import RandomForestRegressor\n",
        "rfr = RandomForestRegressor(random_state=2022)\n",
        "rfr.fit(X_train, y_train)\n",
        "pred_rf = rfr.predict(X_test)\n",
        "r2_score(y_test, pred_rf)"
      ],
      "metadata": {
        "colab": {
          "base_uri": "https://localhost:8080/"
        },
        "id": "4U-MTojEgmaq",
        "outputId": "ec923190-3acb-48e7-e428-9ac774c95f2c"
      },
      "execution_count": 22,
      "outputs": [
        {
          "output_type": "execute_result",
          "data": {
            "text/plain": [
              "0.8017061249172668"
            ]
          },
          "metadata": {},
          "execution_count": 22
        }
      ]
    },
    {
      "cell_type": "code",
      "source": [
        "# SVM\n",
        "from sklearn.svm import SVR\n",
        "svr = SVR()\n",
        "svr.fit(X_train2, y_train2)\n",
        "pred_sv = svr.predict(X_test2)\n",
        "r2_score(y_test2, pred_sv)"
      ],
      "metadata": {
        "colab": {
          "base_uri": "https://localhost:8080/"
        },
        "id": "PlrqdjFUhJ9v",
        "outputId": "501fa6b0-eaaf-4cc8-c982-f2877316475a"
      },
      "execution_count": 23,
      "outputs": [
        {
          "output_type": "execute_result",
          "data": {
            "text/plain": [
              "0.655552865955936"
            ]
          },
          "metadata": {},
          "execution_count": 23
        }
      ]
    },
    {
      "cell_type": "markdown",
      "source": [
        "### 4. 예측값 비교"
      ],
      "metadata": {
        "id": "ZMv9wvPViTHf"
      }
    },
    {
      "cell_type": "code",
      "source": [
        "df['DT'] = pred_dt.round(4)\n",
        "df['RF'] = pred_rf.round(4)\n",
        "df['SV'] = pred_sv.round(4)"
      ],
      "metadata": {
        "id": "cZ0ffwRNhx0R"
      },
      "execution_count": 24,
      "outputs": []
    },
    {
      "cell_type": "code",
      "source": [
        "df.head(10)"
      ],
      "metadata": {
        "colab": {
          "base_uri": "https://localhost:8080/",
          "height": 363
        },
        "id": "mxUCmQ1Xio73",
        "outputId": "e8a4e4ef-50bf-4345-8195-3e61d72fcf98"
      },
      "execution_count": 25,
      "outputs": [
        {
          "output_type": "execute_result",
          "data": {
            "text/plain": [
              "   y_test         LR  y_test2      Ridge      Lasso    DT      RF       SV\n",
              "0    20.1  21.052395     20.1  20.997831  21.258673  20.4  20.128  19.2864\n",
              "1    11.9   6.309071     11.9   9.558010   6.328281  13.8  13.190  12.8522\n",
              "2    20.6  21.526247     20.6  20.315095  21.110774  23.0  21.152  20.6842\n",
              "3    33.2  36.158114     33.2  34.056721  35.792194  34.6  34.464  28.8451\n",
              "4    20.8  18.031103     20.8  17.579987  17.837889  23.1  19.411  16.0579\n",
              "5    13.5  13.179806     13.5  15.213495  13.565227  15.2  15.187  15.5334\n",
              "6    24.7  24.951738     24.7  25.467278  24.859535  25.3  24.576  24.3536\n",
              "7    13.9  12.625334     13.9  15.473890  13.052384  17.5  15.887  15.5062\n",
              "8    10.4   6.181062     10.4   8.887716   6.440885   5.0   8.429  10.8791\n",
              "9    19.7  13.386348     19.7  15.806759  13.594170  18.5  17.792  15.5834"
            ],
            "text/html": [
              "\n",
              "  <div id=\"df-3876377c-4c80-466e-8ab0-3d7d3af0c75e\">\n",
              "    <div class=\"colab-df-container\">\n",
              "      <div>\n",
              "<style scoped>\n",
              "    .dataframe tbody tr th:only-of-type {\n",
              "        vertical-align: middle;\n",
              "    }\n",
              "\n",
              "    .dataframe tbody tr th {\n",
              "        vertical-align: top;\n",
              "    }\n",
              "\n",
              "    .dataframe thead th {\n",
              "        text-align: right;\n",
              "    }\n",
              "</style>\n",
              "<table border=\"1\" class=\"dataframe\">\n",
              "  <thead>\n",
              "    <tr style=\"text-align: right;\">\n",
              "      <th></th>\n",
              "      <th>y_test</th>\n",
              "      <th>LR</th>\n",
              "      <th>y_test2</th>\n",
              "      <th>Ridge</th>\n",
              "      <th>Lasso</th>\n",
              "      <th>DT</th>\n",
              "      <th>RF</th>\n",
              "      <th>SV</th>\n",
              "    </tr>\n",
              "  </thead>\n",
              "  <tbody>\n",
              "    <tr>\n",
              "      <th>0</th>\n",
              "      <td>20.1</td>\n",
              "      <td>21.052395</td>\n",
              "      <td>20.1</td>\n",
              "      <td>20.997831</td>\n",
              "      <td>21.258673</td>\n",
              "      <td>20.4</td>\n",
              "      <td>20.128</td>\n",
              "      <td>19.2864</td>\n",
              "    </tr>\n",
              "    <tr>\n",
              "      <th>1</th>\n",
              "      <td>11.9</td>\n",
              "      <td>6.309071</td>\n",
              "      <td>11.9</td>\n",
              "      <td>9.558010</td>\n",
              "      <td>6.328281</td>\n",
              "      <td>13.8</td>\n",
              "      <td>13.190</td>\n",
              "      <td>12.8522</td>\n",
              "    </tr>\n",
              "    <tr>\n",
              "      <th>2</th>\n",
              "      <td>20.6</td>\n",
              "      <td>21.526247</td>\n",
              "      <td>20.6</td>\n",
              "      <td>20.315095</td>\n",
              "      <td>21.110774</td>\n",
              "      <td>23.0</td>\n",
              "      <td>21.152</td>\n",
              "      <td>20.6842</td>\n",
              "    </tr>\n",
              "    <tr>\n",
              "      <th>3</th>\n",
              "      <td>33.2</td>\n",
              "      <td>36.158114</td>\n",
              "      <td>33.2</td>\n",
              "      <td>34.056721</td>\n",
              "      <td>35.792194</td>\n",
              "      <td>34.6</td>\n",
              "      <td>34.464</td>\n",
              "      <td>28.8451</td>\n",
              "    </tr>\n",
              "    <tr>\n",
              "      <th>4</th>\n",
              "      <td>20.8</td>\n",
              "      <td>18.031103</td>\n",
              "      <td>20.8</td>\n",
              "      <td>17.579987</td>\n",
              "      <td>17.837889</td>\n",
              "      <td>23.1</td>\n",
              "      <td>19.411</td>\n",
              "      <td>16.0579</td>\n",
              "    </tr>\n",
              "    <tr>\n",
              "      <th>5</th>\n",
              "      <td>13.5</td>\n",
              "      <td>13.179806</td>\n",
              "      <td>13.5</td>\n",
              "      <td>15.213495</td>\n",
              "      <td>13.565227</td>\n",
              "      <td>15.2</td>\n",
              "      <td>15.187</td>\n",
              "      <td>15.5334</td>\n",
              "    </tr>\n",
              "    <tr>\n",
              "      <th>6</th>\n",
              "      <td>24.7</td>\n",
              "      <td>24.951738</td>\n",
              "      <td>24.7</td>\n",
              "      <td>25.467278</td>\n",
              "      <td>24.859535</td>\n",
              "      <td>25.3</td>\n",
              "      <td>24.576</td>\n",
              "      <td>24.3536</td>\n",
              "    </tr>\n",
              "    <tr>\n",
              "      <th>7</th>\n",
              "      <td>13.9</td>\n",
              "      <td>12.625334</td>\n",
              "      <td>13.9</td>\n",
              "      <td>15.473890</td>\n",
              "      <td>13.052384</td>\n",
              "      <td>17.5</td>\n",
              "      <td>15.887</td>\n",
              "      <td>15.5062</td>\n",
              "    </tr>\n",
              "    <tr>\n",
              "      <th>8</th>\n",
              "      <td>10.4</td>\n",
              "      <td>6.181062</td>\n",
              "      <td>10.4</td>\n",
              "      <td>8.887716</td>\n",
              "      <td>6.440885</td>\n",
              "      <td>5.0</td>\n",
              "      <td>8.429</td>\n",
              "      <td>10.8791</td>\n",
              "    </tr>\n",
              "    <tr>\n",
              "      <th>9</th>\n",
              "      <td>19.7</td>\n",
              "      <td>13.386348</td>\n",
              "      <td>19.7</td>\n",
              "      <td>15.806759</td>\n",
              "      <td>13.594170</td>\n",
              "      <td>18.5</td>\n",
              "      <td>17.792</td>\n",
              "      <td>15.5834</td>\n",
              "    </tr>\n",
              "  </tbody>\n",
              "</table>\n",
              "</div>\n",
              "      <button class=\"colab-df-convert\" onclick=\"convertToInteractive('df-3876377c-4c80-466e-8ab0-3d7d3af0c75e')\"\n",
              "              title=\"Convert this dataframe to an interactive table.\"\n",
              "              style=\"display:none;\">\n",
              "        \n",
              "  <svg xmlns=\"http://www.w3.org/2000/svg\" height=\"24px\"viewBox=\"0 0 24 24\"\n",
              "       width=\"24px\">\n",
              "    <path d=\"M0 0h24v24H0V0z\" fill=\"none\"/>\n",
              "    <path d=\"M18.56 5.44l.94 2.06.94-2.06 2.06-.94-2.06-.94-.94-2.06-.94 2.06-2.06.94zm-11 1L8.5 8.5l.94-2.06 2.06-.94-2.06-.94L8.5 2.5l-.94 2.06-2.06.94zm10 10l.94 2.06.94-2.06 2.06-.94-2.06-.94-.94-2.06-.94 2.06-2.06.94z\"/><path d=\"M17.41 7.96l-1.37-1.37c-.4-.4-.92-.59-1.43-.59-.52 0-1.04.2-1.43.59L10.3 9.45l-7.72 7.72c-.78.78-.78 2.05 0 2.83L4 21.41c.39.39.9.59 1.41.59.51 0 1.02-.2 1.41-.59l7.78-7.78 2.81-2.81c.8-.78.8-2.07 0-2.86zM5.41 20L4 18.59l7.72-7.72 1.47 1.35L5.41 20z\"/>\n",
              "  </svg>\n",
              "      </button>\n",
              "      \n",
              "  <style>\n",
              "    .colab-df-container {\n",
              "      display:flex;\n",
              "      flex-wrap:wrap;\n",
              "      gap: 12px;\n",
              "    }\n",
              "\n",
              "    .colab-df-convert {\n",
              "      background-color: #E8F0FE;\n",
              "      border: none;\n",
              "      border-radius: 50%;\n",
              "      cursor: pointer;\n",
              "      display: none;\n",
              "      fill: #1967D2;\n",
              "      height: 32px;\n",
              "      padding: 0 0 0 0;\n",
              "      width: 32px;\n",
              "    }\n",
              "\n",
              "    .colab-df-convert:hover {\n",
              "      background-color: #E2EBFA;\n",
              "      box-shadow: 0px 1px 2px rgba(60, 64, 67, 0.3), 0px 1px 3px 1px rgba(60, 64, 67, 0.15);\n",
              "      fill: #174EA6;\n",
              "    }\n",
              "\n",
              "    [theme=dark] .colab-df-convert {\n",
              "      background-color: #3B4455;\n",
              "      fill: #D2E3FC;\n",
              "    }\n",
              "\n",
              "    [theme=dark] .colab-df-convert:hover {\n",
              "      background-color: #434B5C;\n",
              "      box-shadow: 0px 1px 3px 1px rgba(0, 0, 0, 0.15);\n",
              "      filter: drop-shadow(0px 1px 2px rgba(0, 0, 0, 0.3));\n",
              "      fill: #FFFFFF;\n",
              "    }\n",
              "  </style>\n",
              "\n",
              "      <script>\n",
              "        const buttonEl =\n",
              "          document.querySelector('#df-3876377c-4c80-466e-8ab0-3d7d3af0c75e button.colab-df-convert');\n",
              "        buttonEl.style.display =\n",
              "          google.colab.kernel.accessAllowed ? 'block' : 'none';\n",
              "\n",
              "        async function convertToInteractive(key) {\n",
              "          const element = document.querySelector('#df-3876377c-4c80-466e-8ab0-3d7d3af0c75e');\n",
              "          const dataTable =\n",
              "            await google.colab.kernel.invokeFunction('convertToInteractive',\n",
              "                                                     [key], {});\n",
              "          if (!dataTable) return;\n",
              "\n",
              "          const docLinkHtml = 'Like what you see? Visit the ' +\n",
              "            '<a target=\"_blank\" href=https://colab.research.google.com/notebooks/data_table.ipynb>data table notebook</a>'\n",
              "            + ' to learn more about interactive tables.';\n",
              "          element.innerHTML = '';\n",
              "          dataTable['output_type'] = 'display_data';\n",
              "          await google.colab.output.renderOutput(dataTable, element);\n",
              "          const docLink = document.createElement('div');\n",
              "          docLink.innerHTML = docLinkHtml;\n",
              "          element.appendChild(docLink);\n",
              "        }\n",
              "      </script>\n",
              "    </div>\n",
              "  </div>\n",
              "  "
            ]
          },
          "metadata": {},
          "execution_count": 25
        }
      ]
    },
    {
      "cell_type": "code",
      "source": [],
      "metadata": {
        "id": "pergCMVQirg_"
      },
      "execution_count": null,
      "outputs": []
    }
  ]
}